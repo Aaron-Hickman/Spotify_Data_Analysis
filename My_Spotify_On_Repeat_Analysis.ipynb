{
 "cells": [
  {
   "cell_type": "code",
   "execution_count": null,
   "metadata": {},
   "outputs": [],
   "source": [
    "contents = ''\n",
    "\n",
    "with open(\"Spotify_On_Repeat_track_URIs.txt\", \"r\") as IDs:\n",
    "\n",
    "    for line in IDs:\n",
    "        stripped_line = line.strip()\n",
    "        contents = contents + stripped_line\n",
    "        \n",
    "contents.replace('spotify:track:', ',')\n",
    "\n",
    "#add .txt file to github too!\n"
   ]
  },
  {
   "cell_type": "code",
   "execution_count": 2,
   "metadata": {},
   "outputs": [
    {
     "name": "stdout",
     "output_type": "stream",
     "text": [
      "Average energy:\n",
      "0.6431333333333332\n"
     ]
    }
   ],
   "source": [
    "contents = ''\n",
    "with open(\"On_Repeat_tracks_stats.txt\", \"r\") as data:\n",
    "     for line in data:\n",
    "        if (\"energy\") in line:\n",
    "            stripped_line = line.strip()\n",
    "            contents = contents + stripped_line\n",
    "\n",
    "no_of_songs = contents.count(\"energy\",)\n",
    "\n",
    "# import string\n",
    "# all=string.maketrans('','')\n",
    "# nodigs=all.translate(all, string.digits)\n",
    "# contents.translate(all, nodigs)\n",
    "\n",
    "\n",
    "# Explore at a later date more elegeant way of doing below (see above comments)\n",
    "contents = contents.replace(\"\\\"\",\" \")\n",
    "contents = contents.replace(\", energy :\", \"\")\n",
    "contents = contents.replace(\"energy :\", \"\")\n",
    "contents = contents.replace(\",\", \"\")\n",
    "\n",
    "\n",
    "contents = list(contents.split())\n",
    "contents = map(float, contents)\n",
    "\n",
    "print('Average energy:')\n",
    "average_energy = (sum(contents)/no_of_songs)\n",
    "\n",
    "print(average_energy)\n",
    "\n",
    "#add .txt file to github too!"
   ]
  },
  {
   "cell_type": "code",
   "execution_count": null,
   "metadata": {},
   "outputs": [],
   "source": []
  }
 ],
 "metadata": {
  "kernelspec": {
   "display_name": "Python 3",
   "language": "python",
   "name": "python3"
  },
  "language_info": {
   "codemirror_mode": {
    "name": "ipython",
    "version": 3
   },
   "file_extension": ".py",
   "mimetype": "text/x-python",
   "name": "python",
   "nbconvert_exporter": "python",
   "pygments_lexer": "ipython3",
   "version": "3.8.3"
  }
 },
 "nbformat": 4,
 "nbformat_minor": 4
}
